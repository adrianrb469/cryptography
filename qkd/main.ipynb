{
 "cells": [
  {
   "cell_type": "markdown",
   "metadata": {},
   "source": [
    "<h1 style=\"font-size:2em; font-family:sans-serif\">\n",
    "  Ejercicio QKD\n",
    "</h1>"
   ]
  },
  {
   "cell_type": "markdown",
   "metadata": {},
   "source": [
    "<sub style=\"color: #888;\">Adrian Rodriguez, 2025</sub>"
   ]
  },
  {
   "cell_type": "code",
   "execution_count": 1,
   "metadata": {},
   "outputs": [],
   "source": [
    "import random\n",
    "import pandas as pd\n",
    "\n",
    "ROUNDS = 15"
   ]
  },
  {
   "cell_type": "markdown",
   "metadata": {},
   "source": [
    "<div style=\" border-left: 5px solid #ff9800; padding: 1em; margin-bottom: 1em;\">\n",
    "  <b>¿Qué hace esta función?</b><br>\n",
    "  <ul style=\"margin: 0.3em 0 0 1.3em;\">\n",
    "    <li>Simula el protocolo BB84 de distribución cuántica de claves.</li>\n",
    "    <li>Alice y Bob eligen bits y bases al azar en cada ronda.</li>\n",
    "    <li>Eve (espía) puede interceptar y causar errores, según <code>interception_rate</code>.</li>\n",
    "    <li>Solo se conservan los bits donde las bases coinciden para la clave final.</li>\n",
    "    <li>Imprime la tabla de resultados, la cantidad de bits útiles y la tasa de error (QBER).</li>\n",
    "  </ul>\n",
    "</div>"
   ]
  },
  {
   "cell_type": "code",
   "execution_count": 2,
   "metadata": {},
   "outputs": [],
   "source": [
    "def simulate_bb84(interception_rate: float = 0.0):\n",
    "    rows = []\n",
    "    for _ in range(ROUNDS):\n",
    "        alice_bit = random.randint(0, 1)\n",
    "        alice_basis = random.randint(0, 1)  # 0 = rectilinear, 1 = diagonal\n",
    "\n",
    "        eve_intercepts = random.random() < interception_rate\n",
    "        if eve_intercepts:\n",
    "            eve_basis = random.randint(0, 1)\n",
    "            if eve_basis == alice_basis:\n",
    "                eve_bit = alice_bit\n",
    "            else:\n",
    "                eve_bit = random.randint(0, 1)\n",
    "            photon_bit = eve_bit\n",
    "            photon_basis = eve_basis\n",
    "        else:\n",
    "            photon_bit = alice_bit\n",
    "            photon_basis = alice_basis\n",
    "\n",
    "        bob_basis = random.randint(0, 1)\n",
    "        if bob_basis == photon_basis:\n",
    "            bob_bit = photon_bit\n",
    "        else:\n",
    "            bob_bit = random.randint(0, 1)\n",
    "\n",
    "        bases_match = alice_basis == bob_basis\n",
    "        use_for_key = bases_match\n",
    "\n",
    "        rows.append(\n",
    "            {\n",
    "                \"Alice Bit\": alice_bit,\n",
    "                \"Alice Basis\": \"Rectilinear\" if alice_basis == 0 else \"Diagonal\",\n",
    "                \"Bob Basis\": \"Rectilinear\" if bob_basis == 0 else \"Diagonal\",\n",
    "                \"Bob Bit\": bob_bit,\n",
    "                \"Bases Match?\": bases_match,\n",
    "                \"Use for Key?\": \"Yes\" if use_for_key else \"No\",\n",
    "            }\n",
    "        )\n",
    "    df = pd.DataFrame(rows)\n",
    "\n",
    "    sifted = df[df[\"Bases Match?\"]]\n",
    "    if not sifted.empty:\n",
    "        errors = (sifted[\"Alice Bit\"] != sifted[\"Bob Bit\"]).sum()\n",
    "        error_rate = 100 * errors / len(sifted)\n",
    "    else:\n",
    "        error_rate = 0.0\n",
    "    print(df)\n",
    "    print(f\"\\nKey bits: {len(sifted)}\")\n",
    "    print(f\"Percentage of rounds kept: {100 * len(sifted) / ROUNDS:.1f}%\")\n",
    "    print(f\"QBER (error rate in sifted key): {error_rate:.1f}%\")\n"
   ]
  },
  {
   "cell_type": "code",
   "execution_count": 3,
   "metadata": {},
   "outputs": [
    {
     "name": "stdout",
     "output_type": "stream",
     "text": [
      "    Alice Bit  Alice Basis    Bob Basis  Bob Bit  Bases Match? Use for Key?\n",
      "0           1     Diagonal  Rectilinear        1         False           No\n",
      "1           0     Diagonal     Diagonal        0          True          Yes\n",
      "2           0  Rectilinear  Rectilinear        0          True          Yes\n",
      "3           1     Diagonal     Diagonal        1          True          Yes\n",
      "4           0  Rectilinear  Rectilinear        0          True          Yes\n",
      "5           0  Rectilinear  Rectilinear        0          True          Yes\n",
      "6           1  Rectilinear  Rectilinear        1          True          Yes\n",
      "7           1     Diagonal  Rectilinear        0         False           No\n",
      "8           1     Diagonal     Diagonal        1          True          Yes\n",
      "9           0  Rectilinear  Rectilinear        0          True          Yes\n",
      "10          1  Rectilinear     Diagonal        1         False           No\n",
      "11          0     Diagonal  Rectilinear        1         False           No\n",
      "12          1  Rectilinear  Rectilinear        1          True          Yes\n",
      "13          1  Rectilinear     Diagonal        1         False           No\n",
      "14          1     Diagonal  Rectilinear        1         False           No\n",
      "\n",
      "Key bits: 9\n",
      "Percentage of rounds kept: 60.0%\n",
      "QBER (error rate in sifted key): 0.0%\n"
     ]
    }
   ],
   "source": [
    "simulate_bb84(0)"
   ]
  },
  {
   "cell_type": "markdown",
   "metadata": {},
   "source": [
    "### A. ¿Cuántos bits finales obtuvieron de la clave?"
   ]
  },
  {
   "cell_type": "markdown",
   "metadata": {},
   "source": [
    "En la simulación sin intervención, se obtuvieron 9 bits finales útiles para la clave compartida."
   ]
  },
  {
   "cell_type": "markdown",
   "metadata": {},
   "source": [
    "### B. ¿Qué porcentaje representa respecto al total?"
   ]
  },
  {
   "cell_type": "markdown",
   "metadata": {},
   "source": [
    "Estos 9 bits representan el 60% del total de 15 rondas realizadas."
   ]
  },
  {
   "cell_type": "markdown",
   "metadata": {},
   "source": [
    "*Nota: Dado que las siguientes preguntas involucran a Eve, se volvió a correr la simulación con una tasa de intercepción del 30%.*"
   ]
  },
  {
   "cell_type": "code",
   "execution_count": 5,
   "metadata": {},
   "outputs": [
    {
     "name": "stdout",
     "output_type": "stream",
     "text": [
      "    Alice Bit  Alice Basis    Bob Basis  Bob Bit  Bases Match? Use for Key?\n",
      "0           0     Diagonal  Rectilinear        1         False           No\n",
      "1           0  Rectilinear     Diagonal        0         False           No\n",
      "2           1  Rectilinear  Rectilinear        0          True          Yes\n",
      "3           0  Rectilinear  Rectilinear        0          True          Yes\n",
      "4           0  Rectilinear     Diagonal        0         False           No\n",
      "5           0     Diagonal     Diagonal        0          True          Yes\n",
      "6           1     Diagonal  Rectilinear        1         False           No\n",
      "7           1     Diagonal  Rectilinear        1         False           No\n",
      "8           0     Diagonal  Rectilinear        1         False           No\n",
      "9           0  Rectilinear  Rectilinear        0          True          Yes\n",
      "10          1  Rectilinear  Rectilinear        1          True          Yes\n",
      "11          1  Rectilinear     Diagonal        1         False           No\n",
      "12          1     Diagonal  Rectilinear        1         False           No\n",
      "13          1     Diagonal  Rectilinear        1         False           No\n",
      "14          1     Diagonal     Diagonal        1          True          Yes\n",
      "\n",
      "Key bits: 6\n",
      "Percentage of rounds kept: 40.0%\n",
      "QBER (error rate in sifted key): 16.7%\n"
     ]
    }
   ],
   "source": [
    "simulate_bb84(0.3)"
   ]
  },
  {
   "cell_type": "markdown",
   "metadata": {},
   "source": [
    "### C. ¿Qué pasaría si Eve interceptara los fotones y usara bases incorrectas?"
   ]
  },
  {
   "cell_type": "markdown",
   "metadata": {},
   "source": [
    "Cuando Eve intercepta el 30 % de los fotones, la tasa de error en los bits filtrados (QBER) sube a 14,3 %. Esa cifra supera el ruido típico de un canal honesto (≈ 1 %–5 %) y se acerca o sobrepasa el umbral operativo (~11 %), por lo que la clave se volvería insegura."
   ]
  },
  {
   "cell_type": "markdown",
   "metadata": {},
   "source": [
    "### D. ¿Cómo se puede detectar su presencia?"
   ]
  },
  {
   "cell_type": "markdown",
   "metadata": {},
   "source": [
    "La presencia de Eve se detecta cuando, a pesar de que Alice y Bob **usaron la misma base**, sus bits no coinciden en una proporción mayor a la esperada.\n",
    "\n",
    "Al comparar públicamente una fracción de los bits generados, si se observan discrepancias (errores) por encima del umbral aceptable se concluye que alguien ha interferido con la transmisión. En esta simulación, la QBER de 16.7% revela claramente la intervención de Eve.\n"
   ]
  },
  {
   "cell_type": "markdown",
   "metadata": {},
   "source": [
    "### E. ¿Qué ventajas y desventajas tiene este protocolo frente a otros cifrados tradicionales?"
   ]
  },
  {
   "cell_type": "markdown",
   "metadata": {},
   "source": [
    "| **Ventajas (para el intercambio de claves)**                                           | **Desventajas**                                                                          |\n",
    "|---------------------------------------------------------------------------------------|------------------------------------------------------------------------------------------|\n",
    "| Ofrece seguridad basada en la física: cualquier medición no autorizada introduce errores detectables. | Requiere hardware cuántico especializado y canales ópticos de alta calidad.              |\n",
    "| Permite detectar intrusos en tiempo real midiendo el QBER.                            | Limitado a distancias de unos cientos de kilómetros sin repetidores cuánticos; la velocidad de bits útil es baja. |\n",
    "| No depende de conjeturas matemáticas; es robusto ante futuros computadores cuánticos. | El canal público de autenticación sigue necesitando un esquema clásico seguro y claves iniciales. |"
   ]
  }
 ],
 "metadata": {
  "kernelspec": {
   "display_name": "Python 3",
   "language": "python",
   "name": "python3"
  },
  "language_info": {
   "codemirror_mode": {
    "name": "ipython",
    "version": 3
   },
   "file_extension": ".py",
   "mimetype": "text/x-python",
   "name": "python",
   "nbconvert_exporter": "python",
   "pygments_lexer": "ipython3",
   "version": "3.10.14"
  }
 },
 "nbformat": 4,
 "nbformat_minor": 2
}
