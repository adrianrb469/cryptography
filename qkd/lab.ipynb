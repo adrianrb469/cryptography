{
 "cells": [
  {
   "cell_type": "markdown",
   "metadata": {},
   "source": [
    "<h1 style=\"font-size:2em; font-family:sans-serif\">\n",
    "  Laboratorio 5 - QKD\n",
    "</h1>"
   ]
  },
  {
   "cell_type": "markdown",
   "metadata": {},
   "source": [
    "<sub style=\"color: #888;\">Adrian Rodriguez, 2025</sub>\n",
    "\n"
   ]
  },
  {
   "cell_type": "markdown",
   "metadata": {},
   "source": [
    "Esta es una versión modificada del código usado para el ejercicio QKD, se explica mas a detalle en main.ipynb. \n",
    "Lo único nuevo es la construcción de la llave usando las bases que hacen match."
   ]
  },
  {
   "cell_type": "code",
   "execution_count": 10,
   "metadata": {},
   "outputs": [
    {
     "name": "stdout",
     "output_type": "stream",
     "text": [
      "    Alice Bit Alice Basis Bob Basis  Bob Bit Bases Match? Use for Key?\n",
      "0           1           /         /        1          Yes          Yes\n",
      "1           0           /         /        0          Yes          Yes\n",
      "2           0           |         |        0          Yes          Yes\n",
      "3           0           |         /        0           No           No\n",
      "4           0           /         /        0          Yes          Yes\n",
      "5           1           |         |        1          Yes          Yes\n",
      "6           1           /         |        1           No           No\n",
      "7           1           |         /        1           No           No\n",
      "8           0           |         /        0           No           No\n",
      "9           0           |         |        0          Yes          Yes\n",
      "10          1           /         /        1          Yes          Yes\n",
      "11          1           /         |        0           No           No\n",
      "12          1           /         /        1          Yes          Yes\n",
      "13          1           |         /        0           No           No\n",
      "14          0           |         /        0           No           No\n",
      "\n",
      "Alice's key bits: [1, 0, 0, 0, 1, 0, 1, 1]\n",
      "Bob's key bits:   [1, 0, 0, 0, 1, 0, 1, 1]\n",
      "Final secret key (shared): [1, 0, 0, 0, 1, 0, 1, 1]\n",
      "Number of bits in key: 8\n",
      "Percentage of rounds kept: 53.3%\n",
      "QBER (error rate in key): 0.0%\n",
      "\n"
     ]
    }
   ],
   "source": [
    "import random\n",
    "import pandas as pd\n",
    "\n",
    "ROUNDS = 15  # Number of rounds\n",
    "\n",
    "def basis_symbol(b):  # 0: rectilinear (|), 1: diagonal (/)\n",
    "    return '|' if b == 0 else '/'\n",
    "\n",
    "def simulate_bb84(eve_interception_rate: float = 0.0):\n",
    "    rows = []\n",
    "    alice_key_bits = []\n",
    "    bob_key_bits = []\n",
    "\n",
    "    for _ in range(ROUNDS):\n",
    "        # 1. Alice: chooses random bit and basis\n",
    "        alice_bit = random.randint(0, 1)\n",
    "        alice_basis = random.randint(0, 1)\n",
    "\n",
    "        # 2. Eve intercepts?\n",
    "        eve_intercepts = random.random() < eve_interception_rate\n",
    "        if eve_intercepts:\n",
    "            eve_basis = random.randint(0, 1)\n",
    "            if eve_basis == alice_basis:\n",
    "                eve_bit = alice_bit\n",
    "            else:\n",
    "                eve_bit = random.randint(0, 1)\n",
    "            # Photon arrives at Bob with Eve's disturbance\n",
    "            photon_bit = eve_bit\n",
    "            photon_basis = eve_basis\n",
    "        else:\n",
    "            photon_bit = alice_bit\n",
    "            photon_basis = alice_basis\n",
    "\n",
    "        # 3. Bob chooses random basis and measures\n",
    "        bob_basis = random.randint(0, 1)\n",
    "        if bob_basis == photon_basis:\n",
    "            bob_bit = photon_bit\n",
    "        else:\n",
    "            bob_bit = random.randint(0, 1)\n",
    "\n",
    "        bases_match = (alice_basis == bob_basis)\n",
    "\n",
    "        # Only keep bits for key where bases match\n",
    "        if bases_match:\n",
    "            alice_key_bits.append(alice_bit)\n",
    "            bob_key_bits.append(bob_bit)\n",
    "\n",
    "        rows.append({\n",
    "            \"Alice Bit\": alice_bit,\n",
    "            \"Alice Basis\": basis_symbol(alice_basis),\n",
    "            \"Bob Basis\": basis_symbol(bob_basis),\n",
    "            \"Bob Bit\": bob_bit,\n",
    "            \"Bases Match?\": \"Yes\" if bases_match else \"No\",\n",
    "            \"Use for Key?\": \"Yes\" if bases_match else \"No\"\n",
    "        })\n",
    "\n",
    "    df = pd.DataFrame(rows)\n",
    "\n",
    "    # Calculate QBER (error rate in key bits)\n",
    "    if alice_key_bits:\n",
    "        errors = sum(a != b for a, b in zip(alice_key_bits, bob_key_bits))\n",
    "        qber = 100 * errors / len(alice_key_bits)\n",
    "    else:\n",
    "        qber = 0.0\n",
    "\n",
    "    print(df)\n",
    "    print(f\"\\nAlice's key bits: {alice_key_bits}\")\n",
    "    print(f\"Bob's key bits:   {bob_key_bits}\")\n",
    "    print(f\"Final secret key (shared): \", end=\"\")\n",
    "    if alice_key_bits == bob_key_bits:\n",
    "        print(alice_key_bits)\n",
    "    else:\n",
    "        # Show which bits are different\n",
    "        print(\"\".join([str(a) if a == b else \"*\" for a, b in zip(alice_key_bits, bob_key_bits)]))\n",
    "        print(\"  *Note: '*' marks bits where Alice and Bob differ (error)\")\n",
    "    print(f\"Number of bits in key: {len(alice_key_bits)}\")\n",
    "    print(f\"Percentage of rounds kept: {100*len(alice_key_bits)/ROUNDS:.1f}%\")\n",
    "    print(f\"QBER (error rate in key): {qber:.1f}%\\n\")\n",
    "\n",
    "simulate_bb84(eve_interception_rate=0.2)  "
   ]
  }
 ],
 "metadata": {
  "kernelspec": {
   "display_name": "Python 3",
   "language": "python",
   "name": "python3"
  },
  "language_info": {
   "codemirror_mode": {
    "name": "ipython",
    "version": 3
   },
   "file_extension": ".py",
   "mimetype": "text/x-python",
   "name": "python",
   "nbconvert_exporter": "python",
   "pygments_lexer": "ipython3",
   "version": "3.10.14"
  }
 },
 "nbformat": 4,
 "nbformat_minor": 2
}
