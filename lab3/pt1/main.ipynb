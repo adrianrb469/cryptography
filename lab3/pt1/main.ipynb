{
 "cells": [
  {
   "cell_type": "code",
   "execution_count": 16,
   "metadata": {},
   "outputs": [],
   "source": [
    "from Crypto.Cipher import AES\n",
    "from Crypto.Util.Padding import pad\n",
    "from Crypto.Random import get_random_bytes\n",
    "from PIL import Image\n",
    "import numpy as np"
   ]
  },
  {
   "cell_type": "code",
   "execution_count": 6,
   "metadata": {},
   "outputs": [],
   "source": [
    "key = get_random_bytes(16)\n",
    "image = Image.open('tux.ppm')"
   ]
  },
  {
   "cell_type": "code",
   "execution_count": 14,
   "metadata": {},
   "outputs": [],
   "source": [
    "def encrypt(method, data):\n",
    "    iv = get_random_bytes(16)\n",
    "    data = pad(data, AES.block_size)\n",
    "\n",
    "    match method:\n",
    "        case 'ECB':\n",
    "            cipher = AES.new(key, AES.MODE_ECB)\n",
    "            encrypted = cipher.encrypt(data)\n",
    "        case 'CBC':\n",
    "            cipher = AES.new(key, AES.MODE_CBC, iv)\n",
    "            encrypted = cipher.encrypt(data)\n",
    "    return encrypted\n"
   ]
  },
  {
   "cell_type": "code",
   "execution_count": 32,
   "metadata": {},
   "outputs": [],
   "source": [
    "image_array = np.array(image)\n",
    "# We want to preserve the original format to visualize the encrypted images.\n",
    "width, height = image.size\n",
    "mode = image.mode \n",
    "\n",
    "ecb_encrypted = encrypt('ECB', image.tobytes())\n",
    "cbc_encrypted = encrypt('CBC', image.tobytes())\n",
    "\n",
    "ecb_image = Image.new(mode, (width, height))\n",
    "ecb_image.frombytes(ecb_encrypted)\n",
    "\n",
    "cbc_image = Image.new(mode, (width, height))\n",
    "cbc_image.frombytes(cbc_encrypted)\n",
    "\n",
    "ecb_image.save('tux_ecb.png')\n",
    "cbc_image.save('tux_cbc.png')\n"
   ]
  },
  {
   "cell_type": "markdown",
   "metadata": {},
   "source": [
    "> **Note:** Saved as png to render them properly in markdown, would still work with ppm."
   ]
  },
  {
   "cell_type": "markdown",
   "metadata": {},
   "source": [
    "<table>\n",
    "  <tr>\n",
    "    <td><img src=\"./tux_ecb.png\" alt=\"ECB\" width=\"300\"/></td>\n",
    "    <td><img src=\"./tux_cbc.png\" alt=\"CBC\" width=\"300\"/></td>\n",
    "  </tr>\n",
    "  <tr>\n",
    "    <td style=\"text-align: center;\">ECB Mode</td>\n",
    "    <td style=\"text-align: center;\">CBC Mode</td>\n",
    "  </tr>\n",
    "</table>"
   ]
  },
  {
   "cell_type": "markdown",
   "metadata": {},
   "source": [
    "### ¿Por qué el cifrado ECB revela los patrones de la imagen?"
   ]
  },
  {
   "cell_type": "markdown",
   "metadata": {},
   "source": [
    "El cifrado ECB (Electronic Codebook) revela los patrones de la imagen porque cifra cada bloque de la imagen de forma independiente con la misma clave. Si la imagen contiene áreas grandes con el mismo color o patrón, estos bloques idénticos se cifrarán exactamente de la misma manera, resultando en bloques cifrados idénticos. "
   ]
  },
  {
   "cell_type": "markdown",
   "metadata": {},
   "source": [
    "### ¿Cómo cambia la apariencia con CBC?"
   ]
  },
  {
   "cell_type": "markdown",
   "metadata": {},
   "source": [
    "En CBC, cada bloque se cifra dependiendo del bloque anterior, utilizando un vector de inicialización (IV) para el primer bloque. El resultado es una imagen cifrada que parece completamente aleatoria y no revela ningún patrón visual de la imagen original."
   ]
  },
  {
   "cell_type": "markdown",
   "metadata": {},
   "source": [
    "### ¿Qué tan seguro es usar ECB para cifrar datos estructurados?\n"
   ]
  },
  {
   "cell_type": "markdown",
   "metadata": {},
   "source": [
    "**Bastante** inseguro. ECB no oculta patrones en los datos, lo que permite a un atacante obtener información valiosa sobre los datos cifrados sin necesidad de descifrarlos. "
   ]
  }
 ],
 "metadata": {
  "kernelspec": {
   "display_name": "Python 3",
   "language": "python",
   "name": "python3"
  },
  "language_info": {
   "codemirror_mode": {
    "name": "ipython",
    "version": 3
   },
   "file_extension": ".py",
   "mimetype": "text/x-python",
   "name": "python",
   "nbconvert_exporter": "python",
   "pygments_lexer": "ipython3",
   "version": "3.10.14"
  }
 },
 "nbformat": 4,
 "nbformat_minor": 2
}
