{
 "cells": [
  {
   "cell_type": "markdown",
   "metadata": {},
   "source": [
    "## **Implementación**"
   ]
  },
  {
   "cell_type": "code",
   "execution_count": 45,
   "metadata": {},
   "outputs": [],
   "source": [
    "KEY = 'tWFK491q'"
   ]
  },
  {
   "cell_type": "code",
   "execution_count": 46,
   "metadata": {},
   "outputs": [],
   "source": [
    "def lcg(x_n, a, c, m):\n",
    "    return (a*x_n + c) % m;"
   ]
  },
  {
   "cell_type": "markdown",
   "metadata": {},
   "source": [
    "El LCG es un algoritmo clásico para generar secuencias de números pseudoaleatorios. Su funcionamiento se basa en la siguiente fórmula recursiva:\n",
    "\n",
    "$$ x_{n+1} = (ax_n + c) \\mod m $$\n",
    "\n",
    "Donde:\n",
    "- $ a $ es el multiplicador\n",
    "- $ c $ es el incremento\n",
    "- $ m $ es el módulo\n",
    "- $ x_n $ es el valor actual\n",
    "- $ x_{n+1} $ es el siguiente valor\n",
    "\n",
    "Referencia: [Linear Congruential Generator (LCG)](https://en.wikipedia.org/wiki/Linear_congruential_generator)"
   ]
  },
  {
   "cell_type": "code",
   "execution_count": 47,
   "metadata": {},
   "outputs": [],
   "source": [
    "\n",
    "def generate_keystream(key: str, message: str) -> bytes:\n",
    "    # We need a value to start the sequence\n",
    "    key_num = sum(ord(c) for c in key) \n",
    "    \n",
    "    m = 2**31  \n",
    "    a = 1103515245\n",
    "    c = 12345\n",
    "    \n",
    "    value = (a*key_num + c) % m  \n",
    "    keystream = []\n",
    "    \n",
    "    for _ in range(len(message)):\n",
    "        keystream.append(value % 256)\n",
    "        value = lcg(value, a, c, m)  \n",
    "\n",
    "\n",
    "    return bytes(keystream)\n"
   ]
  },
  {
   "cell_type": "markdown",
   "metadata": {},
   "source": [
    "Para cada byte del mensaje, se genera un nuevo valor pseudoaleatorio usando la función `lcg`, el resultado se toma módulo 256 (`value % 256`) para obtener un byte que se añade al `keystream`."
   ]
  },
  {
   "cell_type": "markdown",
   "metadata": {},
   "source": [
    "<div class=\"alert alert-block alert-info\">\n",
    "<b>Nota:</b> Se utilizan valores específicos para m, a y c que son los mismos que usa la implementación de `rand()` en glibc.\n",
    "</div>"
   ]
  },
  {
   "cell_type": "code",
   "execution_count": 48,
   "metadata": {},
   "outputs": [],
   "source": [
    "def encrypt_message(message: str, key: str) -> bytes:\n",
    "    keystream = generate_keystream(key, message)\n",
    "    return bytes([b ^ k for b, k in zip(message.encode(), keystream)])\n",
    "\n",
    "def decrypt_message(encrypted_message: bytes, key: str) -> str:\n",
    "    keystream = generate_keystream(key, encrypted_message)\n",
    "    return bytes([b ^ k for b, k in zip(encrypted_message, keystream)]).decode()"
   ]
  },
  {
   "cell_type": "code",
   "execution_count": 49,
   "metadata": {},
   "outputs": [
    {
     "data": {
      "text/plain": [
       "True"
      ]
     },
     "execution_count": 49,
     "metadata": {},
     "output_type": "execute_result"
    }
   ],
   "source": [
    "decrypt_message(encrypt_message('This works!', KEY), KEY) == 'This works!'"
   ]
  },
  {
   "cell_type": "markdown",
   "metadata": {},
   "source": [
    "## **Pruebas Unitarias**"
   ]
  },
  {
   "cell_type": "code",
   "execution_count": 55,
   "metadata": {},
   "outputs": [
    {
     "data": {
      "text/html": [
       "<table border=\"1\" class=\"dataframe table table-striped table-hover\">\n",
       "  <thead>\n",
       "    <tr style=\"text-align: right;\">\n",
       "      <th>Original Message</th>\n",
       "      <th>Encrypted (hex)</th>\n",
       "      <th>Decrypted</th>\n",
       "      <th>Status</th>\n",
       "    </tr>\n",
       "  </thead>\n",
       "  <tbody>\n",
       "    <tr>\n",
       "      <td>Hello, World!</td>\n",
       "      <td>8004ea2b1bb132b48feb...</td>\n",
       "      <td>Hello, World!</td>\n",
       "      <td>✅ Passed</td>\n",
       "    </tr>\n",
       "    <tr>\n",
       "      <td>Cryptography is fascinating</td>\n",
       "      <td>8b13ff3700f2759181e9...</td>\n",
       "      <td>Cryptography is fascinating</td>\n",
       "      <td>✅ Passed</td>\n",
       "    </tr>\n",
       "    <tr>\n",
       "      <td>Special chars: !@#$%^&*()</td>\n",
       "      <td>9b11e3241dfc7ec383f1...</td>\n",
       "      <td>Special chars: !@#$%^&*()</td>\n",
       "      <td>✅ Passed</td>\n",
       "    </tr>\n",
       "    <tr>\n",
       "      <td>Numbers: 12345</td>\n",
       "      <td>8614eb2511ef61d9c0a8...</td>\n",
       "      <td>Numbers: 12345</td>\n",
       "      <td>✅ Passed</td>\n",
       "    </tr>\n",
       "    <tr>\n",
       "      <td>Empty string should work too:</td>\n",
       "      <td>8d0cf6330dbd619792f0...</td>\n",
       "      <td>Empty string should work too:</td>\n",
       "      <td>✅ Passed</td>\n",
       "    </tr>\n",
       "  </tbody>\n",
       "</table>"
      ],
      "text/plain": [
       "<IPython.core.display.HTML object>"
      ]
     },
     "metadata": {},
     "output_type": "display_data"
    },
    {
     "data": {
      "text/html": [
       "<table border=\"1\" class=\"dataframe table table-striped table-hover\">\n",
       "  <thead>\n",
       "    <tr style=\"text-align: right;\">\n",
       "      <th>Key</th>\n",
       "      <th>Encrypted (hex)</th>\n",
       "      <th>Status</th>\n",
       "    </tr>\n",
       "  </thead>\n",
       "  <tbody>\n",
       "    <tr>\n",
       "      <td>key1</td>\n",
       "      <td>7fe04835275d2ef2c280...</td>\n",
       "      <td>✅ Passed</td>\n",
       "    </tr>\n",
       "    <tr>\n",
       "      <td>longkey123456</td>\n",
       "      <td>9b340c49cb219226a6d4...</td>\n",
       "      <td>✅ Passed</td>\n",
       "    </tr>\n",
       "    <tr>\n",
       "      <td>short</td>\n",
       "      <td>fd46a62f455398688026...</td>\n",
       "      <td>✅ Passed</td>\n",
       "    </tr>\n",
       "    <tr>\n",
       "      <td>!@#$%^&*()</td>\n",
       "      <td>414272cbb19f8444aca2...</td>\n",
       "      <td>✅ Passed</td>\n",
       "    </tr>\n",
       "  </tbody>\n",
       "</table>"
      ],
      "text/plain": [
       "<IPython.core.display.HTML object>"
      ]
     },
     "metadata": {},
     "output_type": "display_data"
    }
   ],
   "source": [
    "import pandas as pd\n",
    "\n",
    "# Different messages, same key.\n",
    "test_messages = [\n",
    "    \"Hello, World!\",\n",
    "    \"Cryptography is fascinating\",\n",
    "    \"Special chars: !@#$%^&*()\",\n",
    "    \"Numbers: 12345\",\n",
    "    \"Empty string should work too: \"\n",
    "]\n",
    "\n",
    "results = []\n",
    "for msg in test_messages:\n",
    "    encrypted = encrypt_message(msg, KEY)\n",
    "    decrypted = decrypt_message(encrypted, KEY)\n",
    "    status = \"✅ Passed\" if msg == decrypted else \"❌ Failed\"\n",
    "    results.append({\n",
    "        \"Original Message\": msg,\n",
    "        \"Encrypted (hex)\": encrypted.hex()[:20] + \"...\" if len(encrypted) > 10 else encrypted.hex(),\n",
    "        \"Decrypted\": decrypted,\n",
    "        \"Status\": status\n",
    "    })\n",
    "\n",
    "df = pd.DataFrame(results)\n",
    "display(HTML(df.to_html(escape=False, index=False, classes=\"table table-striped table-hover\")))\n",
    "\n",
    "\n",
    "# Same message, different keys.\n",
    "message = \"This is a test message\"\n",
    "keys = [\"key1\", \"longkey123456\", \"short\", \"!@#$%^&*()\"]\n",
    "    \n",
    "key_results = []\n",
    "for key in keys:\n",
    "    encrypted = encrypt_message(message, key)\n",
    "    decrypted = decrypt_message(encrypted, key)\n",
    "    status = \"✅ Passed\" if message == decrypted else \"❌ Failed\"\n",
    "    key_results.append({\n",
    "        \"Key\": key,\n",
    "        \"Encrypted (hex)\": encrypted.hex()[:20] + \"...\" if len(encrypted) > 10 else encrypted.hex(),\n",
    "        \"Status\": status\n",
    "    })\n",
    "\n",
    "\n",
    "key_df = pd.DataFrame(key_results)\n",
    "display(HTML(key_df.to_html(escape=False, index=False, classes=\"table table-striped table-hover\")))"
   ]
  },
  {
   "cell_type": "markdown",
   "metadata": {},
   "source": [
    "## **Preguntas**\n"
   ]
  },
  {
   "cell_type": "markdown",
   "metadata": {},
   "source": [
    "\n",
    "*1. ¿Qué sucede cuando cambias la clave utilizada para generar el keystream?*\n"
   ]
  },
  {
   "cell_type": "markdown",
   "metadata": {},
   "source": [
    "Cuando se cambia la clave, se obtiene un keystream completamente diferente.\n",
    "Esto significa que el mismo mensaje se cifrará de manera totalmente distinta"
   ]
  },
  {
   "cell_type": "code",
   "execution_count": 51,
   "metadata": {},
   "outputs": [
    {
     "name": "stdout",
     "output_type": "stream",
     "text": [
      "Key: KEY1 -> 03472D87\n",
      "Key: KEY2 -> F0FE9A96\n"
     ]
    }
   ],
   "source": [
    "mensaje = \"Hola\"\n",
    "clave1 = \"KEY1\"\n",
    "clave2 = \"KEY2\"\n",
    "\n",
    "cifrado1 = encrypt_message(mensaje, clave1)\n",
    "cifrado2 = encrypt_message(mensaje, clave2)\n",
    "\n",
    "print(f\"Key: {clave1} -> {cifrado1.hex().upper()}\")\n",
    "print(f\"Key: {clave2} -> {cifrado2.hex().upper()}\") "
   ]
  },
  {
   "cell_type": "markdown",
   "metadata": {},
   "source": [
    "*2. ¿Qué riesgos de seguridad existen si reutilizas el mismo keystream para cifrar dos mensajes diferentes?*"
   ]
  },
  {
   "cell_type": "markdown",
   "metadata": {},
   "source": [
    "Es bastante peligroso usar el mismo keystream. Supongamos que tenemos dos mensajes M1 y M2:\n",
    "\n",
    "\\begin{align*}\n",
    "    C_1 &= M_1 \\oplus K \\\\\n",
    "    C_2 &= M_2 \\oplus K\n",
    "\\end{align*}\n",
    "\n",
    "Podemos llegar a la siguiente equivalencia:\n",
    "\n",
    "\\begin{align*}\n",
    "    C_1 \\oplus C_2 &= (M_1 \\oplus K) \\oplus (M_2 \\oplus K) \\\\\n",
    "                     &= M_1 \\oplus M_2\n",
    "\\end{align*}\n",
    "Lo cual expone la información de los mensajes originales."
   ]
  },
  {
   "cell_type": "markdown",
   "metadata": {},
   "source": [
    "*3. ¿Cómo afecta la longitud del keystream a la seguridad del cifrado?*"
   ]
  },
  {
   "cell_type": "markdown",
   "metadata": {},
   "source": [
    "Si el keystream es demasiado corto o se repite, se abren la posibilidad a ataques de reutilización de claves, como el conocido ataque de dos-time pad, en el que dos mensajes cifrados con el mismo keystream permiten derivar información del texto original. Además, un keystream predecible o cíclico puede facilitar análisis estadísticos y ataques de correlación, comprometiendo la integridad del cifrado.\n",
    "\n",
    "Hay que utilizar generadores de keystream robustos que aseguren una secuencia larga, única e impredecible para cada sesión o mensaje. Esto no solo previene la repetición de patrones, sino que también dificulta a los atacantes la reconstrucción del keystream o la deducción de la clave secreta, garantizando una protección contra diversas técnicas criptográficas.\n"
   ]
  },
  {
   "cell_type": "markdown",
   "metadata": {},
   "source": [
    "*4. ¿Qué consideraciones debes tener al generar un keystream en un entorno real?*"
   ]
  },
  {
   "cell_type": "markdown",
   "metadata": {},
   "source": [
    "Lo primero sería usar un generador de números pseudoaleatorios criptográficamente seguro (CSPRNG) que garantice impredecibilidad y ausencia de patrones repetitivos. La semilla para dicho generador debe obtenerse de fuentes de alta entropía, como dispositivos de hardware o eventos del sistema, y manejarse de forma que no se exponga ni reutilice en múltiples sesiones.\n",
    "\n",
    "En el código anterior, se usa un generador congruencial lineal (LCG) basado en la suma de los valores ASCII de la clave como semilla. Sin embargo, los LCG no son adecuados para criptografía, ya que producen secuencias predecibles y tienen períodos limitados, lo que los hace vulnerables a ataques de correlación y análisis estadístico.\n",
    "\n",
    "Para mejorar la seguridad del keystream, se pueden utilizar generadores de números aleatorios criptográficamente seguros como `secrets.token_bytes()`, que proporciona valores impredecibles adecuados para cifrado. Si se necesita un keystream determinístico basado en una clave, es mejor utilizar funciones de derivación de claves como PBKDF2, scrypt, o HKDF, que fortalecen la clave original contra ataques de fuerza bruta. Otra opción segura es emplear un cifrador de bloque como AES en modo CTR, que genera un keystream al cifrar un contador incremental, asegurando que la salida sea resistente a ataques criptográficos.\n"
   ]
  },
  {
   "cell_type": "markdown",
   "metadata": {},
   "source": [
    "\n",
    "**Referencias**\n",
    "- Schneier, B. (1996). Applied Cryptography: Protocols, Algorithms, and Source Code in C. Wiley.\n",
    "- Menezes, A. J., van Oorschot, P. C., & Vanstone, S. A. (1996). Handbook of Applied Cryptography"
   ]
  }
 ],
 "metadata": {
  "kernelspec": {
   "display_name": "Python 3",
   "language": "python",
   "name": "python3"
  },
  "language_info": {
   "codemirror_mode": {
    "name": "ipython",
    "version": 3
   },
   "file_extension": ".py",
   "mimetype": "text/x-python",
   "name": "python",
   "nbconvert_exporter": "python",
   "pygments_lexer": "ipython3",
   "version": "3.10.14"
  }
 },
 "nbformat": 4,
 "nbformat_minor": 2
}
